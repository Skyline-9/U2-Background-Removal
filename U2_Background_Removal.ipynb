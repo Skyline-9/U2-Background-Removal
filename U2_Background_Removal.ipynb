{
  "nbformat": 4,
  "nbformat_minor": 0,
  "metadata": {
    "colab": {
      "name": "U2-Background-Removal.ipynb",
      "provenance": [],
      "collapsed_sections": [],
      "authorship_tag": "ABX9TyOUT4xNyjN/PdT19/4kw9bd",
      "include_colab_link": true
    },
    "kernelspec": {
      "name": "python3",
      "display_name": "Python 3"
    },
    "language_info": {
      "name": "python"
    },
    "accelerator": "GPU"
  },
  "cells": [
    {
      "cell_type": "markdown",
      "metadata": {
        "id": "view-in-github",
        "colab_type": "text"
      },
      "source": [
        "<a href=\"https://colab.research.google.com/github/Skyline-9/U2-Background-Removal/blob/main/U2_Background_Removal.ipynb\" target=\"_parent\"><img src=\"https://colab.research.google.com/assets/colab-badge.svg\" alt=\"Open In Colab\"/></a>"
      ]
    },
    {
      "cell_type": "markdown",
      "metadata": {
        "id": "hgSn_6NngXST"
      },
      "source": [
        "# **Deep Learning Based Background Removal Using U<sup>2</sup> - Net**\n",
        "By Richard Luo\n",
        "\n",
        "*Since: June 25, 2021*\n",
        "\n",
        "Link to research article: https://arxiv.org/pdf/2005.09007.pdf\n"
      ]
    },
    {
      "cell_type": "markdown",
      "metadata": {
        "id": "WPooUE0ZhR_c"
      },
      "source": [
        "### **Verifying GPU**\n",
        "Make sure GPU acceleration is enabled, preferably the T4 over the P1000."
      ]
    },
    {
      "cell_type": "code",
      "metadata": {
        "colab": {
          "base_uri": "https://localhost:8080/"
        },
        "id": "iBJeDQ89g8pK",
        "outputId": "27c04621-496a-41ae-b882-1574228ac5f8"
      },
      "source": [
        "!nvidia-smi"
      ],
      "execution_count": 8,
      "outputs": [
        {
          "output_type": "stream",
          "text": [
            "Tue Jun 29 01:00:52 2021       \n",
            "+-----------------------------------------------------------------------------+\n",
            "| NVIDIA-SMI 465.27       Driver Version: 460.32.03    CUDA Version: 11.2     |\n",
            "|-------------------------------+----------------------+----------------------+\n",
            "| GPU  Name        Persistence-M| Bus-Id        Disp.A | Volatile Uncorr. ECC |\n",
            "| Fan  Temp  Perf  Pwr:Usage/Cap|         Memory-Usage | GPU-Util  Compute M. |\n",
            "|                               |                      |               MIG M. |\n",
            "|===============================+======================+======================|\n",
            "|   0  Tesla T4            Off  | 00000000:00:04.0 Off |                    0 |\n",
            "| N/A   50C    P8    10W /  70W |      0MiB / 15109MiB |      0%      Default |\n",
            "|                               |                      |                  N/A |\n",
            "+-------------------------------+----------------------+----------------------+\n",
            "                                                                               \n",
            "+-----------------------------------------------------------------------------+\n",
            "| Processes:                                                                  |\n",
            "|  GPU   GI   CI        PID   Type   Process name                  GPU Memory |\n",
            "|        ID   ID                                                   Usage      |\n",
            "|=============================================================================|\n",
            "|  No running processes found                                                 |\n",
            "+-----------------------------------------------------------------------------+\n"
          ],
          "name": "stdout"
        }
      ]
    },
    {
      "cell_type": "markdown",
      "metadata": {
        "id": "W3NfdEPvhu0I"
      },
      "source": [
        "## **Mounting Google Drive**"
      ]
    },
    {
      "cell_type": "code",
      "metadata": {
        "id": "QoxnR_bNh8lg",
        "colab": {
          "base_uri": "https://localhost:8080/"
        },
        "outputId": "3ef65901-2bbe-42d6-9ef3-753e49bf3a41"
      },
      "source": [
        "from google.colab import drive \n",
        "drive.mount('/content/gdrive')"
      ],
      "execution_count": 9,
      "outputs": [
        {
          "output_type": "stream",
          "text": [
            "Drive already mounted at /content/gdrive; to attempt to forcibly remount, call drive.mount(\"/content/gdrive\", force_remount=True).\n"
          ],
          "name": "stdout"
        }
      ]
    },
    {
      "cell_type": "markdown",
      "metadata": {
        "id": "Bl4o0S-Qiiq-"
      },
      "source": [
        "## **Testing this first out with other code**\n",
        "\n"
      ]
    },
    {
      "cell_type": "code",
      "metadata": {
        "id": "VaBfGa4tiu6D",
        "colab": {
          "base_uri": "https://localhost:8080/"
        },
        "outputId": "5f9b88c1-fcc3-4d09-81a8-4442dafe017b"
      },
      "source": [
        "%cd '/content/gdrive/MyDrive'\n",
        "!git clone https://github.com/Nkap23/background_removal_DL.git"
      ],
      "execution_count": 3,
      "outputs": [
        {
          "output_type": "stream",
          "text": [
            "/content/gdrive/MyDrive\n",
            "Cloning into 'background_removal_DL'...\n",
            "remote: Enumerating objects: 86, done.\u001b[K\n",
            "remote: Counting objects: 100% (86/86), done.\u001b[K\n",
            "remote: Compressing objects: 100% (61/61), done.\u001b[K\n",
            "remote: Total 86 (delta 26), reused 54 (delta 11), pack-reused 0\u001b[K\n",
            "Unpacking objects: 100% (86/86), done.\n"
          ],
          "name": "stdout"
        }
      ]
    },
    {
      "cell_type": "markdown",
      "metadata": {
        "id": "Uct3cXPUivhA"
      },
      "source": [
        "Installing dependencies"
      ]
    },
    {
      "cell_type": "code",
      "metadata": {
        "id": "5PBJb-_ri4ST"
      },
      "source": [
        "from cv2 import cv2 \n",
        "from PIL import Image"
      ],
      "execution_count": 10,
      "outputs": []
    },
    {
      "cell_type": "markdown",
      "metadata": {
        "id": "B65-Co7JRY0t"
      },
      "source": [
        "Creating temporary folder"
      ]
    },
    {
      "cell_type": "code",
      "metadata": {
        "colab": {
          "base_uri": "https://localhost:8080/"
        },
        "id": "46T6d3-HRbF6",
        "outputId": "124832bd-74fe-4cd2-f856-850018df5215"
      },
      "source": [
        "%cd '/content/gdrive/MyDrive/background_removal_DL/test_data/images'\n",
        "!mkdir u2net_results"
      ],
      "execution_count": 5,
      "outputs": [
        {
          "output_type": "stream",
          "text": [
            "/content/gdrive/MyDrive/background_removal_DL/test_data/images\n"
          ],
          "name": "stdout"
        }
      ]
    },
    {
      "cell_type": "markdown",
      "metadata": {
        "id": "ELfEz4oFRlp5"
      },
      "source": [
        "Run Salient Object Detection"
      ]
    },
    {
      "cell_type": "code",
      "metadata": {
        "colab": {
          "base_uri": "https://localhost:8080/"
        },
        "id": "P233sdGNRnKM",
        "outputId": "e3408ab9-86fe-4f6c-a722-d89fdf410133"
      },
      "source": [
        "%cd '/content/gdrive/MyDrive/background_removal_DL'\n",
        "!python u2net_image.py"
      ],
      "execution_count": 12,
      "outputs": [
        {
          "output_type": "stream",
          "text": [
            "/content/gdrive/MyDrive/background_removal_DL\n",
            "['/content/gdrive/MyDrive/background_removal_DL/test_data/images/input/input.jpg']\n",
            "...load U2NET---173.6 MB\n",
            "inferencing: input.jpg\n",
            "/usr/local/lib/python3.7/dist-packages/torch/nn/functional.py:718: UserWarning: Named tensors and all their associated APIs are an experimental feature and subject to change. Please do not use them for anything important until they are released as stable. (Triggered internally at  /pytorch/c10/core/TensorImpl.h:1156.)\n",
            "  return torch.max_pool2d(input, kernel_size, stride, padding, dilation, ceil_mode)\n",
            "/usr/local/lib/python3.7/dist-packages/torch/nn/functional.py:3487: UserWarning: nn.functional.upsample is deprecated. Use nn.functional.interpolate instead.\n",
            "  warnings.warn(\"nn.functional.upsample is deprecated. Use nn.functional.interpolate instead.\")\n",
            "/usr/local/lib/python3.7/dist-packages/torch/nn/functional.py:3613: UserWarning: Default upsampling behavior when mode=bilinear is changed to align_corners=False since 0.4.0. Please specify align_corners=True if the old behavior is desired. See the documentation of nn.Upsample for details.\n",
            "  \"See the documentation of nn.Upsample for details.\".format(mode)\n",
            "/usr/local/lib/python3.7/dist-packages/torch/nn/functional.py:1805: UserWarning: nn.functional.sigmoid is deprecated. Use torch.sigmoid instead.\n",
            "  warnings.warn(\"nn.functional.sigmoid is deprecated. Use torch.sigmoid instead.\")\n"
          ],
          "name": "stdout"
        }
      ]
    },
    {
      "cell_type": "markdown",
      "metadata": {
        "id": "fFVSQS0ZTfID"
      },
      "source": [
        "Bitwise Subtraction"
      ]
    },
    {
      "cell_type": "code",
      "metadata": {
        "colab": {
          "base_uri": "https://localhost:8080/"
        },
        "id": "weJ0MfiXTgbS",
        "outputId": "a9e64b3b-ba8c-4ddf-cffa-bd0814a3f455"
      },
      "source": [
        "#u2netresult\n",
        "u2netresult=cv2.imread('/content/gdrive/MyDrive/background_removal_DL/test_data/images/u2net_results/input.png')\n",
        "#orginalimage (CHANGE FILE EXTENSION HERE - BY DEFAULT: .jpg)\n",
        "original=cv2.imread('/content/gdrive/MyDrive/background_removal_DL/test_data/images/input/input.jpg')\n",
        "#subimage\n",
        "subimage=cv2.subtract(u2netresult,original)\n",
        "cv2.imwrite('/content/gdrive/MyDrive/background_removal_DL/test_data/images/output/output.png',subimage)"
      ],
      "execution_count": 13,
      "outputs": [
        {
          "output_type": "execute_result",
          "data": {
            "text/plain": [
              "True"
            ]
          },
          "metadata": {
            "tags": []
          },
          "execution_count": 13
        }
      ]
    },
    {
      "cell_type": "markdown",
      "metadata": {
        "id": "7n4fD8roTkaE"
      },
      "source": [
        "Extracting Original"
      ]
    },
    {
      "cell_type": "code",
      "metadata": {
        "id": "TeD_ICMOTlar"
      },
      "source": [
        "#subimage\n",
        "subimage=Image.open('/content/gdrive/MyDrive/background_removal_DL/test_data/images/output/output.png')\n",
        "#originalimage\n",
        "original=Image.open('/content/gdrive/MyDrive/background_removal_DL/test_data/images/input/input.jpg')\n",
        "\n",
        "subimage=subimage.convert(\"RGBA\")\n",
        "original=original.convert(\"RGBA\")\n",
        "\n",
        "subdata=subimage.getdata()\n",
        "ogdata=original.getdata()\n",
        "\n",
        "newdata=[]\n",
        "for i in range(subdata.size[0]*subdata.size[1]):\n",
        "  if subdata[i][0]==0 and subdata[i][1]==0 and subdata[i][2]==0:\n",
        "    newdata.append((255,255,255,0))\n",
        "  else:\n",
        "    newdata.append(ogdata[i])\n",
        "subimage.putdata(newdata)\n",
        "subimage.save('/content/gdrive/MyDrive/background_removal_DL/test_data/images/output/output.png',\"PNG\")\n"
      ],
      "execution_count": 14,
      "outputs": []
    }
  ]
}